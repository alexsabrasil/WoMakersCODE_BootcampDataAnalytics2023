{
  "nbformat": 4,
  "nbformat_minor": 0,
  "metadata": {
    "colab": {
      "provenance": [],
      "authorship_tag": "ABX9TyPqC6QBb0tI3QyqS5Yv0KwI",
      "include_colab_link": true
    },
    "kernelspec": {
      "name": "python3",
      "display_name": "Python 3"
    },
    "language_info": {
      "name": "python"
    }
  },
  "cells": [
    {
      "cell_type": "markdown",
      "metadata": {
        "id": "view-in-github",
        "colab_type": "text"
      },
      "source": [
        "<a href=\"https://colab.research.google.com/github/alexsabrasil/WoMakersCODE_BootcampDataAnalytics2023/blob/main/alexsandra_tavares.ipynb\" target=\"_parent\"><img src=\"https://colab.research.google.com/assets/colab-badge.svg\" alt=\"Open In Colab\"/></a>"
      ]
    },
    {
      "cell_type": "markdown",
      "source": [
        "1 ) Para determinar se um candidato está qualificado para uma vaga de emprego, são aplicados dois critérios:\n",
        "\n",
        "a) O candidato deve ter uma presença igual ou superior a 60% em um treinamento obrigatório.\n",
        "\n",
        "b) O candidato deve ter uma média de desempenho igual ou superior a 7 em uma série de testes.\n",
        "\n",
        "Para auxiliar na avaliação dos candidatos, você deve criar uma função que recebe uma lista de dicionários contendo o nome do candidato, a média de desempenho e a quantidade de horas de ausência do treinamento. Com esses dados, a função deve calcular se o candidato está qualificado ou não. A presença do candidato é calculada considerando que o treinamento teve um total de 60 horas e utilizando a fórmula:\n",
        "\n",
        "(Total horas - número de faltas)/Total horas * 100;"
      ],
      "metadata": {
        "id": "saUlzlDQERAp"
      }
    },
    {
      "cell_type": "code",
      "source": [
        "def avaliar_candidato(candidatos):\n",
        "  for candidato in candidatos:\n",
        "      nome = candidato[\"nome\"]\n",
        "      media_desempenho = candidato[\"media_desempenho\"]\n",
        "      horas_ausencia = candidato[\"horas_ausencia\"]\n",
        "\n",
        "      total_horas_treinamento = 60\n",
        "      presenca = ((total_horas_treinamento - horas_ausencia) / total_horas_treinamento) *100\n",
        "\n",
        "      if presenca >= 60 and media_desempenho >= 7:\n",
        "          print(f\"{nome} está qualificado para a vaga.\")\n",
        "      else:\n",
        "          print(f\"{nome} não está qualificado para a vaga.\")\n",
        "\n",
        "candidatos = [\n",
        "    {\"nome\": \"Maria\", \"media_desempenho\": 8, \"horas_ausencia\": 10},\n",
        "    {\"nome\": \"Sara\", \"media_desempenho\": 6, \"horas_ausencia\": 5},\n",
        "]\n",
        "\n",
        "avaliar_candidato(candidatos)"
      ],
      "metadata": {
        "id": "jdOaDJWEEZCH"
      },
      "execution_count": null,
      "outputs": []
    },
    {
      "cell_type": "markdown",
      "source": [
        "2) Crie uma função que recebe uma palavra (string), separa todos os caracteres em uma lista, retorna esta lista e quantidade de letras."
      ],
      "metadata": {
        "id": "JZlBNSk5EgF4"
      }
    },
    {
      "cell_type": "code",
      "execution_count": null,
      "metadata": {
        "id": "1_eEz1y_EEBe"
      },
      "outputs": [],
      "source": [
        "def separar_caracteres(palavra):\n",
        "    lista_caracteres =list(palavra)\n",
        "    quantidade_letras = sum(c.isalpha() for c in lista_caracteres)\n",
        "    return lista_caracteres, quantidade_letras\n",
        "\n",
        "palavra_exemplo = \"Python2\"\n",
        "caracteres, qtd_letras = separar_caracteres(palavra_exemplo)\n",
        "\n",
        "print(\"Lista de caracteres:\" , caracteres)\n",
        "print(\"Quantidade de letras:\", qtd_letras)"
      ]
    },
    {
      "cell_type": "code",
      "source": [
        "#Execute seu código aqui"
      ],
      "metadata": {
        "id": "gRXX4PYPgyzZ"
      },
      "execution_count": null,
      "outputs": []
    },
    {
      "cell_type": "markdown",
      "source": [
        "3) Crie um programa que leia quanto dinheiro uma pessoa tem na carteira, e calcule quanto poderia comprar de cada moeda estrangeira. Considere a tabela de conversão abaixo:\n",
        "\n",
        "Valor convertido em real:\n",
        "\n",
        "Dólar Americano: 4,91\n",
        "Peso Argentino: 0,02\n",
        "Dólar Australiano: 3,18\n",
        "Dólar Canadense: 3,64\n",
        "Franco Suiço: 0,42\n",
        "Euro: 5,36\n",
        "Libra esterlina: 6,21"
      ],
      "metadata": {
        "id": "b8uKL3VnEpbE"
      }
    },
    {
      "cell_type": "code",
      "source": [
        "def calcular_conversao(valor_em_real):\n",
        "    taxa_dolar = 4.91\n",
        "    taxa_peso_argentino = 0.02\n",
        "    taxa_dolar_australiano = 3.18\n",
        "    taxa_dolar_canadense = 3.64\n",
        "    taxa_franco_suico = 0.42\n",
        "    taxa_euro = 5.36\n",
        "    taxa_libra_esterlina = 6.21\n",
        "\n",
        "    dolar = valor_em_real / taxa_dolar\n",
        "    peso_argentino = valor_em_real / taxa_peso_argentino\n",
        "    dolar_australiano = valor_em_real / taxa_dolar_australiano\n",
        "    dolar_canadense = valor_em_real / taxa_dolar_canadense\n",
        "    franco_suico = valor_em_real / taxa_franco_suico\n",
        "    euro = valor_em_real / taxa_euro\n",
        "    libra_esterlina = valor_em_real / taxa_libra_esterlina\n",
        "\n",
        "    return dolar, peso_argentino, dolar_australiano, dolar_canadense, franco_suico, euro, libra_esterlina\n",
        "\n",
        "# Solicitar ao usuário o valor em real\n",
        "valor_em_real = float(input(\"Digite o valor em real na sua carteira: R$ \"))\n",
        "\n",
        "# Calcular a conversão para cada moeda estrangeira\n",
        "conversao = calcular_conversao(valor_em_real)\n",
        "\n",
        "# Exibir os resultados\n",
        "print(\"\\nCom R$ {:.2f}, você pode comprar:\".format(valor_em_real))\n",
        "print(\"Dólar Americano: ${:.2f}\".format(conversao[0]))\n",
        "print(\"Peso Argentino: ${:.2f}\".format(conversao[1]))\n",
        "print(\"Dólar Australiano: ${:.2f}\".format(conversao[2]))\n",
        "print(\"Dólar Canadense: ${:.2f}\".format(conversao[3]))\n",
        "print(\"Franco Suiço: CHF {:.2f}\".format(conversao[4]))\n",
        "print(\"Euro: € {:.2f}\".format(conversao[5]))\n",
        "print(\"Libra Esterlina: £ {:.2f}\".format(conversao[6]))\n",
        "\n",
        "\n"
      ],
      "metadata": {
        "id": "FzsbSP8gEwSY"
      },
      "execution_count": null,
      "outputs": []
    },
    {
      "cell_type": "markdown",
      "source": [
        "4) O chefe decidiu premiar os melhores funcionários de sua empresa com um brinde. Para isso ela vai entregar um brinde para todos os funcionários que tiverem uma performance superior a média da equipe.\n",
        "\n",
        "Elabore uma função que recebe uma lista de nome em formato de dict (dicionário) com nome do funcionário e a média do funcionário (Valor de 0 a 10). Esta função deve calcular a média da equipe, identificar quais funcionários tem média igual ou superior a média da equipe e retornar uma lista com o nome dos funcionários que possuem média igual ou superior a média da equipe. A ordem dos nomes da lista de retorno deve ser em ordem decrescente."
      ],
      "metadata": {
        "id": "XR0mS2WnE00B"
      }
    },
    {
      "cell_type": "code",
      "source": [
        "def funcionarios_acima_da_media(funcionarios):\n",
        "    # Calcular a média da equipe\n",
        "    media_equipe = sum(funcionario[\"media\"] for funcionario in funcionarios) / len(funcionarios)\n",
        "\n",
        "    # Filtrar os funcionários com média igual ou superior à média da equipe\n",
        "    acima_da_media = [funcionario[\"nome\"] for funcionario in funcionarios if funcionario[\"media\"] >= media_equipe]\n",
        "\n",
        "    # Ordenar a lista em ordem decrescente\n",
        "    acima_da_media.sort(reverse=True)\n",
        "\n",
        "    return acima_da_media\n",
        "\n",
        "# Exemplo de uso da função\n",
        "lista_funcionarios = [\n",
        "    {\"nome\": \"Funcionario1\", \"media\": 8},\n",
        "    {\"nome\": \"Funcionario2\", \"media\": 6},\n",
        "    {\"nome\": \"Funcionario3\", \"media\": 9},\n",
        "    # Adicione mais funcionários conforme necessário\n",
        "]\n",
        "\n",
        "funcionarios_premiados = funcionarios_acima_da_media(lista_funcionarios)\n",
        "\n",
        "print(\"Funcionários premiados:\")\n",
        "for funcionario in funcionarios_premiados:\n",
        "    print(funcionario)"
      ],
      "metadata": {
        "id": "XeSmx4ngE8t_"
      },
      "execution_count": null,
      "outputs": []
    },
    {
      "cell_type": "markdown",
      "source": [
        "5) Na variável países_ano, temos uma lista de listas, em que cada elemento é uma lista de dois elementos, em que o primeiro é o nome de um país e o segundo é o ano em que a nação foi fundada."
      ],
      "metadata": {
        "id": "zUbGUprhE-aZ"
      }
    },
    {
      "cell_type": "code",
      "source": [
        "lista_paises = [[\"Brasil\", \"1500\"],[\"Mexico\",\"1519\"], [\"Inglaterra\", \"927\"], [\"Espanha\",\"1978\"], [\"Escocia\", \"843\"]]"
      ],
      "metadata": {
        "id": "our81xaTFE_u"
      },
      "execution_count": null,
      "outputs": []
    },
    {
      "cell_type": "markdown",
      "source": [
        "Você deseja criar uma nova lista de listas a partir do exemplo (lista_paises), em que cada elemento é uma lista de dois elementos, sendo o primeiro o nome do país (como é na lista original) e o segundo é o número de anos desde a fundação do país (considere que o ano atual é 2023)."
      ],
      "metadata": {
        "id": "UMA-nczrFNS0"
      }
    },
    {
      "cell_type": "code",
      "source": [
        "from datetime import datetime\n",
        "\n",
        "# Lista de países e anos de fundação\n",
        "lista_paises = [[\"Brasil\", \"1500\"], [\"Mexico\", \"1519\"], [\"Inglaterra\", \"927\"], [\"Espanha\", \"1978\"], [\"Escocia\", \"843\"]]\n",
        "\n",
        "def calcular_anos_desde_fundacao(lista_paises):\n",
        "    ano_atual = datetime.now().year\n",
        "    nova_lista = []\n",
        "\n",
        "    for pais, ano_fundacao_str in lista_paises:\n",
        "        ano_fundacao = int(ano_fundacao_str)\n",
        "        anos_desde_fundacao = ano_atual - ano_fundacao\n",
        "        nova_lista.append([pais, anos_desde_fundacao])\n",
        "\n",
        "    return nova_lista\n",
        "\n",
        "# Exemplo de uso\n",
        "nova_lista_paises = calcular_anos_desde_fundacao(lista_paises)\n",
        "\n",
        "# Exibir a nova lista de países\n",
        "for elemento in nova_lista_paises:\n",
        "    print(f\"{elemento[0]} - {elemento[1]} anos desde a fundação.\")"
      ],
      "metadata": {
        "id": "wsN7wZlqFRNs"
      },
      "execution_count": null,
      "outputs": []
    },
    {
      "cell_type": "markdown",
      "source": [
        "6) Um jogador de um jogo de vídeo game deseja subir de nível em seu personagem ao atingir 50 inimigos derrotados. Enquanto esse número não é alcançado, uma mensagem indicando quantos inimigos ainda faltam é exibida na tela."
      ],
      "metadata": {
        "id": "d4rCKikmFSnA"
      }
    },
    {
      "cell_type": "code",
      "source": [
        "inimigos_derrotados = 0\n",
        "nivel = 0\n",
        "\n",
        "while (inimigos_derrotados < 50):\n",
        "\n",
        "    print(f\"Faltam {50 - inimigos_derrotados} inimigos para você mudar de nível!\")\n",
        "\n",
        "    derrota_inimigo = int(input(\"Digite quantos inimigos você derrotou nesta rodada: \"))\n",
        "    inimigos_derrotados += derrota_inimigo\n",
        "\n",
        "print(\"\\nVocê atingiu o próximo nível!\")\n",
        "nivel = 1"
      ],
      "metadata": {
        "id": "zu0aXU8aFYLS"
      },
      "execution_count": null,
      "outputs": []
    }
  ]
}